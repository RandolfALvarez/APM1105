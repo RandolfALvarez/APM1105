{
 "cells": [
  {
   "cell_type": "code",
   "execution_count": 1,
   "metadata": {},
   "outputs": [
    {
     "name": "stdout",
     "output_type": "stream",
     "text": [
      "Enter value in kilometers: 44\n",
      "44.00 kilometers is equal to 27.33 miles\n"
     ]
    }
   ],
   "source": [
    "kilometers = float(input(\"Enter value in kilometers: \"))\n",
    "\n",
    "convert = 1.61\n",
    "\n",
    "miles = kilometers / convert\n",
    "print('%0.2f kilometers is equal to %0.2f miles' %(kilometers,miles))"
   ]
  },
  {
   "cell_type": "code",
   "execution_count": 2,
   "metadata": {},
   "outputs": [
    {
     "name": "stdout",
     "output_type": "stream",
     "text": [
      "Enter value in kilometers: 10\n",
      "Enter number of mins:44\n",
      "Enter number of sec:44\n",
      "8.33 milesper hour\n"
     ]
    }
   ],
   "source": [
    "kilometers = float(input(\"Enter value in kilometers: \"))\n",
    "\n",
    "mins = float(input(\"Enter number of mins:\"))\n",
    "\n",
    "sec = float(input(\"Enter number of sec:\"))\n",
    "\n",
    "sectomin = sec/60\n",
    "\n",
    "totalmin = mins + sectomin\n",
    "\n",
    "hours = float (totalmin/60)\n",
    "\n",
    "convert = 1.61\n",
    "\n",
    "miles = float (kilometers / convert)\n",
    "\n",
    "res = float (miles/hours)\n",
    "\n",
    "print('%0.2f miles per hour' %(res))"
   ]
  },
  {
   "cell_type": "code",
   "execution_count": null,
   "metadata": {},
   "outputs": [],
   "source": []
  }
 ],
 "metadata": {
  "kernelspec": {
   "display_name": "Python 3",
   "language": "python",
   "name": "python3"
  },
  "language_info": {
   "codemirror_mode": {
    "name": "ipython",
    "version": 3
   },
   "file_extension": ".py",
   "mimetype": "text/x-python",
   "name": "python",
   "nbconvert_exporter": "python",
   "pygments_lexer": "ipython3",
   "version": "3.7.0"
  }
 },
 "nbformat": 4,
 "nbformat_minor": 2
}
